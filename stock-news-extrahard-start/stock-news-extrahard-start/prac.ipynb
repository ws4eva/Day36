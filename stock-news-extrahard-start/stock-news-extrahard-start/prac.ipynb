{
 "cells": [
  {
   "cell_type": "code",
   "execution_count": 124,
   "metadata": {},
   "outputs": [],
   "source": [
    "import requests\n",
    "import pandas as pd\n",
    "from datetime import datetime, timedelta\n",
    "from twilio.rest import Client\n",
    "\n",
    "STOCK = \"TSLA\"\n",
    "COMPANY_NAME = \"Tesla Inc\"\n",
    "\n",
    "AV_API_KEY = \"YOUR OWN API KEY\"\n",
    "## STEP 1: Use https://www.alphavantage.co\n",
    "# When STOCK price increase/decreases by 5% between yesterday and the day before yesterday then print(\"Get News\").\n",
    "\n",
    "alphavantage_url = 'https://www.alphavantage.co/query'\n",
    "alphavantage_parameter = {\n",
    "    \"function\": \"TIME_SERIES_DAILY\",\n",
    "    \"symbol\": STOCK,\n",
    "    \"apikey\": AV_API_KEY,\n",
    "}"
   ]
  },
  {
   "cell_type": "code",
   "execution_count": null,
   "metadata": {},
   "outputs": [],
   "source": []
  },
  {
   "cell_type": "code",
   "execution_count": 117,
   "metadata": {},
   "outputs": [],
   "source": [
    "r = requests.get(alphavantage_url, params=alphavantage_parameter)\n",
    "data = r.json()"
   ]
  },
  {
   "cell_type": "code",
   "execution_count": 118,
   "metadata": {},
   "outputs": [
    {
     "name": "stdout",
     "output_type": "stream",
     "text": [
      "             1. open   2. high    3. low  4. close  5. volume\n",
      "2024-02-16  202.0600  203.1700  197.4000  199.9500  111346705\n",
      "2024-02-15  189.1600  200.8800  188.8595  200.4500  120831762\n"
     ]
    }
   ],
   "source": [
    "sample_data = data[\"Time Series (Daily)\"]\n",
    "\n",
    "sample_data = pd.DataFrame.from_dict(sample_data, orient=\"index\")\n",
    "df = sample_data.head(2)\n",
    "print(df)"
   ]
  },
  {
   "cell_type": "code",
   "execution_count": 130,
   "metadata": {},
   "outputs": [
    {
     "name": "stdout",
     "output_type": "stream",
     "text": [
      "Stock price changed -0.249%.\n",
      "Alarm trigger % change is 0.1%\n",
      "GET NEWS.\n"
     ]
    }
   ],
   "source": [
    "ALERT_PERCENTAGE_CHANGE = 0.1\n",
    "\n",
    "last_close = float(df.iloc[0][\"4. close\"])\n",
    "previous_close = float(df.iloc[1][\"4. close\"])\n",
    "\n",
    "rate_change = round((last_close - previous_close) / previous_close * 100, 3)\n",
    "\n",
    "if abs(rate_change) >= ALERT_PERCENTAGE_CHANGE:\n",
    "    print(f\"Stock price changed {rate_change}%.\\nAlarm trigger % change is {ALERT_PERCENTAGE_CHANGE}%\\nGET NEWS.\")\n",
    "    get_news = True"
   ]
  },
  {
   "cell_type": "code",
   "execution_count": 127,
   "metadata": {},
   "outputs": [
    {
     "name": "stdout",
     "output_type": "stream",
     "text": [
      "2024-02-16\n"
     ]
    }
   ],
   "source": [
    "## STEP 2: Use https://newsapi.org\n",
    "# Instead of printing (\"Get News\"), actually get the first 3 news pieces for the COMPANY_NAME. \n",
    "\n",
    "# News API\n",
    "NEWS_API_KEY = \"YOUR OWN API\"\n",
    "\n",
    "# TWILIO\n",
    "account_sid = \"YOUR OWN API\"\n",
    "auth_token = \"YOUR OWN TOKEN\"\n",
    "client = Client(account_sid, auth_token)\n",
    "\n",
    "if get_news: \n",
    "       date = date.today() - timedelta(3)\n",
    "       print(date)\n",
    "       news_url = ('https://newsapi.org/v2/everything?'\n",
    "              f'q={COMPANY_NAME}&'\n",
    "              f'from={date}&'\n",
    "              'sortBy=relevancy&'\n",
    "              f'apiKey={NEWS_API_KEY}')\n",
    "       response = requests.get(news_url)\n",
    "       \n"
   ]
  },
  {
   "cell_type": "code",
   "execution_count": 136,
   "metadata": {},
   "outputs": [
    {
     "name": "stdout",
     "output_type": "stream",
     "text": [
      "TSLA: 🔻-0.249\n",
      "Headlne: Jeff Bezos sells more Amazon stock, bringing total to $6 billion this month\n",
      "Brief: Billionaire Jeff Bezos has sold another $2 billion in Amazon.com Inc. shares, bringing his total in stock sales over the past week or so to about $6 billion.\n",
      "Link: https://www.marketwatch.com/story/jeff-bezos-sells-more-amazon-stock-bringing-total-to-6-billion-this-month-d2942c60\n",
      "TSLA: 🔻-0.249\n",
      "Headlne: Based on hundreds of years of bubbles, this is what may finally halt AI, Magnificent Seven stock run\n",
      "Brief: Billionaire Jeff Bezos has sold another $2 billion in Amazon.com Inc. shares, bringing his total in stock sales over the past week or so to about $6 billion.\n",
      "Link: https://www.marketwatch.com/story/based-on-hundreds-of-years-of-bubbles-this-is-what-may-finally-halt-ai-magnificent-seven-stock-run-c37ea7c3\n",
      "TSLA: 🔻-0.249\n",
      "Headlne: S&P 500 seen grinding to new high with producer prices, sentiment data ahead\n",
      "Brief: Billionaire Jeff Bezos has sold another $2 billion in Amazon.com Inc. shares, bringing his total in stock sales over the past week or so to about $6 billion.\n",
      "Link: https://www.marketwatch.com/story/s-p-500-seen-grinding-to-new-high-with-producer-prices-sentiment-data-ahead-08c44188\n"
     ]
    }
   ],
   "source": [
    "top_news = response.json()[\"articles\"][0:3]\n",
    "## STEP 3: Use https://www.twilio.com\n",
    "# Send a seperate message with the percentage change and each article's title and description to your phone number. \n",
    "if rate_change >= 0:\n",
    "    up_down = \"🔺\"\n",
    "else: up_down = \"🔻\"\n",
    "    \n",
    "for news in top_news:\n",
    "    msg = f\"{STOCK}: {up_down}{rate_change}\\nHeadlne: {news['title']}\\nBrief: {top_news[0]['description']}\\nLink: {news['url']}\"\n",
    "    print(msg)\n",
    "    message = client.messages \\\n",
    "            .create(\n",
    "                 body=msg,\n",
    "                 from_='Phone Number',\n",
    "                 to='+Phone Number'\n",
    "             )\n",
    "    "
   ]
  },
  {
   "cell_type": "code",
   "execution_count": 133,
   "metadata": {},
   "outputs": [
    {
     "data": {
      "text/plain": [
       "'\\nTSLA: 🔺2%\\nHeadline: Were Hedge Funds Right About Piling Into Tesla Inc. (TSLA)?. \\nBrief: We at Insider Monkey have gone over 821 13F filings that hedge funds and prominent investors are required to file by the SEC The 13F filings show the funds\\' and investors\\' portfolio positions as of March 31st, near the height of the coronavirus market crash.\\nor\\n\"TSLA: 🔻5%\\nHeadline: Were Hedge Funds Right About Piling Into Tesla Inc. (TSLA)?. \\nBrief: We at Insider Monkey have gone over 821 13F filings that hedge funds and prominent investors are required to file by the SEC The 13F filings show the funds\\' and investors\\' portfolio positions as of March 31st, near the height of the coronavirus market crash.\\n'"
      ]
     },
     "execution_count": 133,
     "metadata": {},
     "output_type": "execute_result"
    }
   ],
   "source": [
    "#Optional: Format the SMS message like this: \n",
    "\"\"\"\n",
    "TSLA: 🔺2%\n",
    "Headline: Were Hedge Funds Right About Piling Into Tesla Inc. (TSLA)?. \n",
    "Brief: We at Insider Monkey have gone over 821 13F filings that hedge funds and prominent investors are required to file by the SEC The 13F filings show the funds' and investors' portfolio positions as of March 31st, near the height of the coronavirus market crash.\n",
    "or\n",
    "\"TSLA: 🔻5%\n",
    "Headline: Were Hedge Funds Right About Piling Into Tesla Inc. (TSLA)?. \n",
    "Brief: We at Insider Monkey have gone over 821 13F filings that hedge funds and prominent investors are required to file by the SEC The 13F filings show the funds' and investors' portfolio positions as of March 31st, near the height of the coronavirus market crash.\n",
    "\"\"\"\n",
    "\n"
   ]
  }
 ],
 "metadata": {
  "kernelspec": {
   "display_name": "base",
   "language": "python",
   "name": "python3"
  },
  "language_info": {
   "codemirror_mode": {
    "name": "ipython",
    "version": 3
   },
   "file_extension": ".py",
   "mimetype": "text/x-python",
   "name": "python",
   "nbconvert_exporter": "python",
   "pygments_lexer": "ipython3",
   "version": "3.9.18"
  }
 },
 "nbformat": 4,
 "nbformat_minor": 2
}
